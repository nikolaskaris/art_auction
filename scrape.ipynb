{
 "cells": [
  {
   "cell_type": "markdown",
   "metadata": {},
   "source": [
    "## Art Auction Data\n",
    "\n",
    "We will begin by compiling information about artworks in the Sotheby's lot archive (https://www.sothebys.com/en/buy/lot-archive). The lot archive contains ~1.5M entries of artworks that have gone to auction between 1999 and present day. In order to pare this down we will make some filtering decisions:\n",
    "\n",
    "* $20k price floor\n",
    "* Categories: (1) 19th century European paintings, (2) Contemporary Art, (3) Modern and Impressionist Art\n",
    "\n",
    "This leaves us with 85,870 artworks."
   ]
  },
  {
   "cell_type": "code",
   "execution_count": 15,
   "metadata": {},
   "outputs": [],
   "source": [
    "import pandas as pd\n",
    "import numpy as np\n",
    "import matplotlib.pyplot as plt\n",
    "import seaborn as sns\n",
    "from urllib.request import urlopen\n",
    "from bs4 import BeautifulSoup\n",
    "import requests\n",
    "from tqdm import tqdm\n",
    "import os\n",
    "import gc\n",
    "\n",
    "%matplotlib inline"
   ]
  },
  {
   "cell_type": "markdown",
   "metadata": {},
   "source": [
    "Some environment configs for scraping."
   ]
  },
  {
   "cell_type": "code",
   "execution_count": 5,
   "metadata": {},
   "outputs": [],
   "source": [
    "ua = {\"User-Agent\":\"Mozilla/5.0\"}\n",
    "url = \"https://www.sothebys.com/en/buy/lot-archive\""
   ]
  },
  {
   "cell_type": "markdown",
   "metadata": {},
   "source": [
    "Quick sanity check to make sure we're getting the HTML and accessing the attributes."
   ]
  },
  {
   "cell_type": "code",
   "execution_count": 6,
   "metadata": {},
   "outputs": [],
   "source": [
    "page = requests.get(url, headers=ua)\n",
    "soup = BeautifulSoup(page.text, 'lxml')"
   ]
  },
  {
   "cell_type": "code",
   "execution_count": 7,
   "metadata": {},
   "outputs": [
    {
     "name": "stdout",
     "output_type": "stream",
     "text": [
      "<title>Past Lot Archive | Search and browse past Fine Art, Jewels, Watches, Wine Lots | Sotheby's</title>\n"
     ]
    }
   ],
   "source": [
    "title = soup.title\n",
    "print(title)"
   ]
  },
  {
   "cell_type": "markdown",
   "metadata": {},
   "source": [
    "Each of the artworks is contained in a 'Card' div, which we'll select here."
   ]
  },
  {
   "cell_type": "code",
   "execution_count": 10,
   "metadata": {},
   "outputs": [
    {
     "data": {
      "text/plain": [
       "15"
      ]
     },
     "execution_count": 10,
     "metadata": {},
     "output_type": "execute_result"
    }
   ],
   "source": [
    "cards = soup.find_all('div', {\"class\": \"Card\"})\n",
    "len(cards)"
   ]
  },
  {
   "cell_type": "markdown",
   "metadata": {},
   "source": [
    "Let's make sure we're collecting the right fields from each of these..."
   ]
  },
  {
   "cell_type": "code",
   "execution_count": 11,
   "metadata": {},
   "outputs": [
    {
     "name": "stdout",
     "output_type": "stream",
     "text": [
      "counter-balance desk lamp\n",
      "Lot Sold 75,000 USD\n",
      "[30,000 – 50,000 USD]\n",
      "[23 May 2019 Sale Price 75,000 USD]\n",
      "[23 May 2019 | 2:00 PM EDT | New York]\n",
      "https://cdn.dotcom.sothebys.psdops.com/dims4/default/8e28b51/2147483647/strip/true/crop/2000x1843+0+0/resize/330x304!/quality/90/?url=https%3A%2F%2Fcdn.dotcom.sothebys.psdops.com%2F93%2F6f%2Ff0%2F1be519877ab836652bf304a08872296e224e3c36979216cdfe4c4d30bc%2F680n10084-9zj9n.jpg\n",
      "\"lotus bell\" table lamp\n",
      "Lot Sold 37,500 USD\n",
      "[25,000 – 35,000 USD]\n",
      "[23 May 2019 Sale Price 37,500 USD]\n",
      "[23 May 2019 | 2:00 PM EDT | New York]\n",
      "https://cdn.dotcom.sothebys.psdops.com/dims4/default/0b34d05/2147483647/strip/true/crop/1678x2000+0+0/resize/315x376!/quality/90/?url=https%3A%2F%2Fcdn.dotcom.sothebys.psdops.com%2Fc0%2F88%2F26%2F39d53f047f3888cd0a4444e10878fa3c83b72adf675111b8590570a617%2F799n10084-b7b3q.jpg\n",
      "an important and rare \"fish and waves\" table lamp\n",
      "Estimate 1,000,000 – 1,500,000 USD\n",
      "[1,000,000 – 1,500,000 USD]\n",
      "[23 May 2019 Sale Price 1,004,000 USD]\n",
      "[23 May 2019 | 2:00 PM EDT | New York]\n",
      "https://cdn.dotcom.sothebys.psdops.com/dims4/default/446c19f/2147483647/strip/true/crop/1669x2000+0+0/resize/314x376!/quality/90/?url=https%3A%2F%2Fcdn.dotcom.sothebys.psdops.com%2Ff7%2Fe8%2Fab%2F35de9e5be95fbceabb0a94dcd6a57d369f2a97d88de3e76daec8944f0b%2F087n10084-55gg5.jpg\n",
      "carved cameo vase\n",
      "Lot Sold 10,000 USD\n",
      "[8,000 – 12,000 USD]\n",
      "[23 May 2019 Sale Price 10,000 USD]\n",
      "[23 May 2019 | 2:00 PM EDT | New York]\n",
      "https://cdn.dotcom.sothebys.psdops.com/dims4/default/3e42e5e/2147483647/strip/true/crop/1442x2000+0+0/resize/271x376!/quality/90/?url=https%3A%2F%2Fcdn.dotcom.sothebys.psdops.com%2F21%2Fb2%2Fe8%2F0c73b3dc4c9c026daf6de00c8ce59b3d9d919b28ef1bc7e830ff66be75%2F494n10084-b4w65.jpg\n",
      "decorated \"gooseneck\" vase\n",
      "Lot Sold 30,000 USD\n",
      "[10,000 – 15,000 USD]\n",
      "[23 May 2019 Sale Price 30,000 USD]\n",
      "[23 May 2019 | 2:00 PM EDT | New York]\n",
      "https://cdn.dotcom.sothebys.psdops.com/dims4/default/22e2d68/2147483647/strip/true/crop/852x2000+0+0/resize/160x376!/quality/90/?url=https%3A%2F%2Fcdn.dotcom.sothebys.psdops.com%2Fab%2Fe1%2F8e%2F1772d04d0849832db7568aeb2de6d8c4a8d5b00725ceafe3dee2ce9b27%2F744n10084-9ks8x.jpg\n",
      "\"peacock\" mirror\n",
      "Lot Sold 15,000 USD\n",
      "[12,000 – 18,000 USD]\n",
      "[23 May 2019 Sale Price 15,000 USD]\n",
      "[23 May 2019 | 2:00 PM EDT | New York]\n",
      "https://cdn.dotcom.sothebys.psdops.com/dims4/default/09fdda2/2147483647/strip/true/crop/1841x2000+0+0/resize/330x359!/quality/90/?url=https%3A%2F%2Fcdn.dotcom.sothebys.psdops.com%2F83%2Fde%2F94%2F9aa67fc2f9c05e184c144ca38d0b024b4459d7c6042f568edac40be930%2F540n10084-9tp2x.jpg\n",
      "an important “elaborate peony” floor lamp\n",
      "Lot Sold 692,000 USD\n",
      "[600,000 – 800,000 USD]\n",
      "[23 May 2019 Sale Price 692,000 USD]\n",
      "[23 May 2019 | 2:00 PM EDT | New York]\n",
      "https://cdn.dotcom.sothebys.psdops.com/dims4/default/5134d8d/2147483647/strip/true/crop/847x2000+0+0/resize/159x376!/quality/90/?url=https%3A%2F%2Fcdn.dotcom.sothebys.psdops.com%2Fb4%2F76%2Fa8%2F46e00a3c7714e16a1aff3c6c10625b698fb0b523e0078370a088f9b9b3%2F582n10084-b49ys.jpg\n",
      "\"nasturtium\" floor lamp\n",
      "Lot Sold 187,500 USD\n",
      "[150,000 – 200,000 USD]\n",
      "[23 May 2019 Sale Price 187,500 USD]\n",
      "[23 May 2019 | 2:00 PM EDT | New York]\n",
      "https://cdn.dotcom.sothebys.psdops.com/dims4/default/da20cec/2147483647/strip/true/crop/895x2000+0+0/resize/168x376!/quality/90/?url=https%3A%2F%2Fcdn.dotcom.sothebys.psdops.com%2Fe9%2F66%2Fce%2Fc700ba617fa27f89881acd0a09c76d3d63b0f5fc348215ed77147d9c93%2F482n10084-b6mbd.jpg\n",
      "“peacock” plaque\n",
      "Lot Sold 8,750 USD\n",
      "[5,000 – 7,000 USD]\n",
      "[23 May 2019 Sale Price 8,750 USD]\n",
      "[23 May 2019 | 2:00 PM EDT | New York]\n",
      "https://cdn.dotcom.sothebys.psdops.com/dims4/default/706b106/2147483647/strip/true/crop/1917x2000+0+0/resize/330x344!/quality/90/?url=https%3A%2F%2Fcdn.dotcom.sothebys.psdops.com%2F30%2F27%2F8d%2F87eeb6d70ace774392cb8011a1fb55c1cfd7dc7d69688b55d587cdfd6b%2F691n10084-9ybld.jpg\n",
      "“daffodil” paperweight vase\n",
      "Estimate 15,000 – 20,000 USD\n",
      "[15,000 – 20,000 USD]\n",
      "[23 May 2019 Sale Price 16,250 USD]\n",
      "[23 May 2019 | 2:00 PM EDT | New York]\n",
      "https://cdn.dotcom.sothebys.psdops.com/dims4/default/c51de78/2147483647/strip/true/crop/1114x2000+0+0/resize/209x376!/quality/90/?url=https%3A%2F%2Fcdn.dotcom.sothebys.psdops.com%2F2f%2F15%2F70%2F69a70f8d5894ecac15de4a931933eafafbef3c3f035f9977360f330174%2F392n10084-9ybny.jpg\n",
      "flower form vase\n",
      "Lot Sold 17,500 USD\n",
      "[12,000 – 18,000 USD]\n",
      "[23 May 2019 Sale Price 17,500 USD]\n",
      "[23 May 2019 | 2:00 PM EDT | New York]\n",
      "https://cdn.dotcom.sothebys.psdops.com/dims4/default/62d1ec9/2147483647/strip/true/crop/1526x2000+0+0/resize/287x376!/quality/90/?url=https%3A%2F%2Fcdn.dotcom.sothebys.psdops.com%2F93%2Fd4%2F22%2Fa230147ff2a9b23682c7e0c32e0c7c4d001cedb5fceb15f3d9b8461bb5%2F457n10084-9ybp4-1-web.jpg\n",
      "\"daffodil\" table lamp\n",
      "Lot Sold 125,000 USD\n",
      "[70,000 – 100,000 USD]\n",
      "[23 May 2019 Sale Price 125,000 USD]\n",
      "[23 May 2019 | 2:00 PM EDT | New York]\n",
      "https://cdn.dotcom.sothebys.psdops.com/dims4/default/fd554d7/2147483647/strip/true/crop/1628x2000+0+0/resize/306x376!/quality/90/?url=https%3A%2F%2Fcdn.dotcom.sothebys.psdops.com%2Fbd%2F0c%2Fd9%2Fa71b08ab78419fb9449244dab1f573ed7bfa650b206fa2ee2ed83883d5%2F624n10084-9gmyd.jpg\n",
      "\"birches and irises\" landscape window\n",
      "Lot Sold 275,000 USD\n",
      "[200,000 – 300,000 USD]\n",
      "[23 May 2019 Sale Price 275,000 USD]\n",
      "[23 May 2019 | 2:00 PM EDT | New York]\n",
      "https://cdn.dotcom.sothebys.psdops.com/dims4/default/5a2b8fb/2147483647/strip/true/crop/1029x2000+0+0/resize/193x376!/quality/90/?url=https%3A%2F%2Fcdn.dotcom.sothebys.psdops.com%2F8f%2F31%2Ff2%2F3ee9b803138c97489fe3e65d9676d6507b11a06578ccfe4458eadcd1f0%2F001n10084-b49xb.jpg\n",
      "\"calyx\" vase\n",
      "Lot Sold 6,875 USD\n",
      "[5,000 – 7,000 USD]\n",
      "[23 May 2019 Sale Price 6,875 USD]\n",
      "[23 May 2019 | 2:00 PM EDT | New York]\n",
      "https://cdn.dotcom.sothebys.psdops.com/dims4/default/d9a94fb/2147483647/strip/true/crop/1457x2000+0+0/resize/274x376!/quality/90/?url=https%3A%2F%2Fcdn.dotcom.sothebys.psdops.com%2F64%2F10%2F0b%2F229b2035bc73f5d18ab7f9a0b4c6746c5af39e0d5dfe39f10d956cbb34%2F457n10084-9ybp4-2-web.jpg\n",
      "\"butterfly\" inkstand\n",
      "Lot Sold 20,000 USD\n",
      "[10,000 – 15,000 USD]\n",
      "[23 May 2019 Sale Price 20,000 USD]\n",
      "[23 May 2019 | 2:00 PM EDT | New York]\n",
      "https://cdn.dotcom.sothebys.psdops.com/dims4/default/d5d4c86/2147483647/strip/true/crop/2000x1576+0+0/resize/330x260!/quality/90/?url=https%3A%2F%2Fcdn.dotcom.sothebys.psdops.com%2F18%2F28%2F92%2Fd47507ca68f4104b4912baccd5623be19718913ccb99a90cb83d5df643%2F756n10084-b7byc.jpg\n"
     ]
    }
   ],
   "source": [
    "for card in cards:\n",
    "\n",
    "    # Artist and art name\n",
    "    title = card.find_all('div', {\"class\": \"Card-titleWorkTxt\"})\n",
    "    cleaned = BeautifulSoup(str(title), \"lxml\").get_text()[1:-1]\n",
    "    print(cleaned)\n",
    "    # Price sold\n",
    "    price = card.find_all('div', {\"class\": \"Card-details\"})\n",
    "    cleaned = BeautifulSoup(str(price), \"lxml\").get_text()\n",
    "    print(cleaned[1:-1])\n",
    "    # Price estimate\n",
    "    estimate = card.find_all('div', {\"class\": \"Card-estimate\"})\n",
    "    cleaned = BeautifulSoup(str(estimate), \"lxml\").get_text()\n",
    "    print(cleaned)\n",
    "    # Sale info\n",
    "    date = card.find_all('div', {\"class\": \"Card-salePrice\"})\n",
    "    cleaned = BeautifulSoup(str(date), \"lxml\").get_text()\n",
    "    print(cleaned)\n",
    "    # Auction info\n",
    "    auction = card.find_all('div', {\"class\": \"Card-auctionDetails\"})\n",
    "    cleaned = BeautifulSoup(str(auction), \"lxml\").get_text()\n",
    "    print(cleaned)\n",
    "    im = card.findAll('img')\n",
    "    print(im[0]['data-src'])\n",
    "    \n",
    "    "
   ]
  },
  {
   "cell_type": "code",
   "execution_count": 12,
   "metadata": {},
   "outputs": [],
   "source": [
    "# URL w/ Filters\n",
    "# Price $20k + \n",
    "# 19th century european, contemporary art, impressionist and modern art\n",
    "url_filters = 'https://www.sothebys.com/en/buy/lot-archive?s=0&from=20000&to=&f0=20000-&from=&to=&f2=00000164-609a-d1db-a5e6-e9fff79f0000&f2=00000164-609b-d1db-a5e6-e9ff01230000&f2=00000164-609b-d1db-a5e6-e9ff08ab0000&q='"
   ]
  },
  {
   "cell_type": "markdown",
   "metadata": {},
   "source": [
    "The 'Card' divs are giving us good information, but we'd like to access fields for each artwork including dimensions,\n",
    "auction date, artist birthdate, etc."
   ]
  },
  {
   "cell_type": "code",
   "execution_count": 13,
   "metadata": {},
   "outputs": [],
   "source": [
    "# Function to clean the tag contents\n",
    "def clean_text(string):\n",
    "        return BeautifulSoup(str(string), 'lxml').get_text()"
   ]
  },
  {
   "cell_type": "code",
   "execution_count": 1,
   "metadata": {},
   "outputs": [],
   "source": [
    "arts = []\n",
    "for i in tqdm(range(1, 2)):     # Change 2 to some big number\n",
    "    ua = {\"User-Agent\":\"Mozilla/5.0\"}\n",
    "    url = url_filters.format(i)\n",
    "    page = requests.get(url, headers=ua)\n",
    "    \n",
    "    soup = BeautifulSoup(page.text, 'lxml')\n",
    "    cards = soup.find_all('div', {\"class\": \"Card\"})\n",
    "    \n",
    "    for card in cards:\n",
    "        # Artist and art name\n",
    "        artist = clean_text(card.find_all('div', {\"class\": \"Card-title\"}))\n",
    "        \n",
    "        title = card.find_all('div', {\"class\": \"Card-titleWorkTxt\"})\n",
    "        title_clean = clean_text(title)\n",
    "\n",
    "        price = card.find_all('div', {\"class\": \"Card-details\"})\n",
    "        price_clean = clean_text(price)\n",
    "\n",
    "        estimate = card.find_all('div', {\"class\": \"Card-estimate\"})\n",
    "        est_clean = clean_text(estimate)\n",
    "\n",
    "        date = card.find_all('div', {\"class\": \"Card-salePrice\"})\n",
    "        date_clean = clean_text(date)\n",
    "        \n",
    "        auction_name = clean_text(card.find_all('div', {\"class\":\"Card-auctionTitle\"}))\n",
    "\n",
    "        auction = card.find_all('div', {\"class\": \"Card-auctionDetails\"})\n",
    "        auc_clean = clean_text(auction)\n",
    "        \n",
    "        im = card.findAll('img')[0]['data-src']\n",
    "        \n",
    "        # Go to artwork page and get description, dimensions, etc.\n",
    "        descrip_url = cards[0].find_all('a', {\"class\":\"Card-media\"}, href=True)[0]['href']\n",
    "        tmp_page = requests.get(descrip_url, headers=ua)\n",
    "        \n",
    "\n",
    "        arts.append([artist, title_clean, price_clean, est_clean, date_clean, auction_name, auc_clean, im])"
   ]
  },
  {
   "cell_type": "code",
   "execution_count": 204,
   "metadata": {},
   "outputs": [],
   "source": [
    "arts_cp = arts.copy()"
   ]
  },
  {
   "cell_type": "code",
   "execution_count": 208,
   "metadata": {},
   "outputs": [
    {
     "name": "stdout",
     "output_type": "stream",
     "text": [
      "art.csv       art_scp.ipynb \u001b[34mmet\u001b[m\u001b[m           \u001b[34mmoma\u001b[m\u001b[m\r\n"
     ]
    }
   ],
   "source": [
    "!ls"
   ]
  },
  {
   "cell_type": "code",
   "execution_count": 209,
   "metadata": {},
   "outputs": [],
   "source": [
    "import csv\n",
    "\n",
    "with open('art.csv', 'w') as csvFile:\n",
    "    writer = csv.writer(csvFile)\n",
    "    writer.writerows(arts_cp)\n",
    "csvFile.close()"
   ]
  },
  {
   "cell_type": "code",
   "execution_count": 210,
   "metadata": {},
   "outputs": [
    {
     "name": "stdout",
     "output_type": "stream",
     "text": [
      "art.csv       art_scp.ipynb \u001b[34mmet\u001b[m\u001b[m           \u001b[34mmoma\u001b[m\u001b[m\r\n"
     ]
    }
   ],
   "source": [
    "!ls"
   ]
  },
  {
   "cell_type": "code",
   "execution_count": 216,
   "metadata": {},
   "outputs": [],
   "source": [
    "data = pd.read_csv('art.csv', names = [\"Artist\", \"Title\", \"Estimate\" ,\"Lot Sold\", \"Info\", \"Auction Name\", \"URL to JPEG\"])"
   ]
  },
  {
   "cell_type": "code",
   "execution_count": 221,
   "metadata": {},
   "outputs": [
    {
     "data": {
      "text/html": [
       "<div>\n",
       "<style scoped>\n",
       "    .dataframe tbody tr th:only-of-type {\n",
       "        vertical-align: middle;\n",
       "    }\n",
       "\n",
       "    .dataframe tbody tr th {\n",
       "        vertical-align: top;\n",
       "    }\n",
       "\n",
       "    .dataframe thead th {\n",
       "        text-align: right;\n",
       "    }\n",
       "</style>\n",
       "<table border=\"1\" class=\"dataframe\">\n",
       "  <thead>\n",
       "    <tr style=\"text-align: right;\">\n",
       "      <th></th>\n",
       "      <th>Artist</th>\n",
       "      <th>Title</th>\n",
       "      <th>Estimate</th>\n",
       "      <th>Lot Sold</th>\n",
       "      <th>Info</th>\n",
       "      <th>Auction Name</th>\n",
       "      <th>URL to JPEG</th>\n",
       "    </tr>\n",
       "  </thead>\n",
       "  <tbody>\n",
       "    <tr>\n",
       "      <th>[William Merritt Chase]</th>\n",
       "      <td>[near the sea (shinnecock)]</td>\n",
       "      <td>[Estimate 200,000 – 300,000 USD]</td>\n",
       "      <td>[200,000 – 300,000 USD]</td>\n",
       "      <td>[21 May 2019 Sale Price 212,500 USD]</td>\n",
       "      <td>[American Art]</td>\n",
       "      <td>[21 May 2019 | 10:00 AM EDT | New York]</td>\n",
       "      <td>https://cdn.dotcom.sothebys.psdops.com/dims4/d...</td>\n",
       "    </tr>\n",
       "  </tbody>\n",
       "</table>\n",
       "</div>"
      ],
      "text/plain": [
       "                                              Artist  \\\n",
       "[William Merritt Chase]  [near the sea (shinnecock)]   \n",
       "\n",
       "                                                    Title  \\\n",
       "[William Merritt Chase]  [Estimate 200,000 – 300,000 USD]   \n",
       "\n",
       "                                        Estimate  \\\n",
       "[William Merritt Chase]  [200,000 – 300,000 USD]   \n",
       "\n",
       "                                                     Lot Sold            Info  \\\n",
       "[William Merritt Chase]  [21 May 2019 Sale Price 212,500 USD]  [American Art]   \n",
       "\n",
       "                                                    Auction Name  \\\n",
       "[William Merritt Chase]  [21 May 2019 | 10:00 AM EDT | New York]   \n",
       "\n",
       "                                                               URL to JPEG  \n",
       "[William Merritt Chase]  https://cdn.dotcom.sothebys.psdops.com/dims4/d...  "
      ]
     },
     "execution_count": 221,
     "metadata": {},
     "output_type": "execute_result"
    }
   ],
   "source": [
    "data[:1]"
   ]
  },
  {
   "cell_type": "code",
   "execution_count": null,
   "metadata": {},
   "outputs": [],
   "source": []
  },
  {
   "cell_type": "markdown",
   "metadata": {},
   "source": [
    "# Experiments"
   ]
  },
  {
   "cell_type": "code",
   "execution_count": 123,
   "metadata": {},
   "outputs": [
    {
     "data": {
      "text/plain": [
       "'https://www.sothebys.com/en/buy/lot-archive?s=0&from=20000&to=&f0=20000-&from=&to=&f2=00000164-609a-d1db-a5e6-e9fff79f0000&f2=00000164-609b-d1db-a5e6-e9ff01230000&f2=00000164-609b-d1db-a5e6-e9ff08ab0000&q='"
      ]
     },
     "execution_count": 123,
     "metadata": {},
     "output_type": "execute_result"
    }
   ],
   "source": [
    "url_filters"
   ]
  },
  {
   "cell_type": "code",
   "execution_count": 124,
   "metadata": {},
   "outputs": [],
   "source": [
    "ua = {\"User-Agent\":\"Mozilla/5.0\"}\n",
    "page = requests.get(url_filters, headers=ua)\n",
    "    \n",
    "soup = BeautifulSoup(page.text, 'lxml')\n",
    "cards = soup.find_all('div', {\"class\": \"Card\"})"
   ]
  },
  {
   "cell_type": "code",
   "execution_count": 125,
   "metadata": {},
   "outputs": [],
   "source": [
    "a = cards[0].find_all('a', {\"class\":\"Card-media\"}, href=True)[0]['href']"
   ]
  },
  {
   "cell_type": "code",
   "execution_count": 126,
   "metadata": {},
   "outputs": [
    {
     "data": {
      "text/plain": [
       "'https://www.sothebys.com/en/buy/auction/2019/19th-century-european-art/thomas-ralph-spence-the-disciples-of-sappho'"
      ]
     },
     "execution_count": 126,
     "metadata": {},
     "output_type": "execute_result"
    }
   ],
   "source": [
    "a"
   ]
  },
  {
   "cell_type": "code",
   "execution_count": 127,
   "metadata": {},
   "outputs": [],
   "source": [
    "a = cards[0].find_all('a', 'Card-info-container')"
   ]
  },
  {
   "cell_type": "code",
   "execution_count": 128,
   "metadata": {},
   "outputs": [],
   "source": [
    "href_tags = soup.find_all('a', {'class': 'Card-info-container'})\n"
   ]
  },
  {
   "cell_type": "code",
   "execution_count": 129,
   "metadata": {},
   "outputs": [
    {
     "data": {
      "text/plain": [
       "'https://www.sothebys.com/en/buy/auction/2019/19th-century-european-art/thomas-ralph-spence-the-disciples-of-sappho'"
      ]
     },
     "execution_count": 129,
     "metadata": {},
     "output_type": "execute_result"
    }
   ],
   "source": [
    "href_tags[0]['href']"
   ]
  },
  {
   "cell_type": "code",
   "execution_count": 130,
   "metadata": {},
   "outputs": [],
   "source": [
    "art_url = href_tags[0]['href']"
   ]
  },
  {
   "cell_type": "code",
   "execution_count": 131,
   "metadata": {},
   "outputs": [
    {
     "data": {
      "text/plain": [
       "'https://www.sothebys.com/en/buy/auction/2019/19th-century-european-art/thomas-ralph-spence-the-disciples-of-sappho'"
      ]
     },
     "execution_count": 131,
     "metadata": {},
     "output_type": "execute_result"
    }
   ],
   "source": [
    "art_url"
   ]
  },
  {
   "cell_type": "code",
   "execution_count": 132,
   "metadata": {},
   "outputs": [],
   "source": [
    "art_page = requests.get(art_url, headers=ua)"
   ]
  },
  {
   "cell_type": "code",
   "execution_count": 133,
   "metadata": {},
   "outputs": [],
   "source": [
    "art_soup = BeautifulSoup(art_page.text, 'lxml')"
   ]
  },
  {
   "cell_type": "code",
   "execution_count": 134,
   "metadata": {},
   "outputs": [],
   "source": [
    "artist = art_soup.find_all('div', {'class': 'lotdetail-guarantee'})"
   ]
  },
  {
   "cell_type": "code",
   "execution_count": 135,
   "metadata": {},
   "outputs": [
    {
     "data": {
      "text/plain": [
       "[]"
      ]
     },
     "execution_count": 135,
     "metadata": {},
     "output_type": "execute_result"
    }
   ],
   "source": [
    "artist"
   ]
  },
  {
   "cell_type": "code",
   "execution_count": 79,
   "metadata": {},
   "outputs": [
    {
     "data": {
      "text/plain": [
       "'Samuel Cooper'"
      ]
     },
     "execution_count": 79,
     "metadata": {},
     "output_type": "execute_result"
    }
   ],
   "source": [
    "clean_text(artist[0])"
   ]
  },
  {
   "cell_type": "code",
   "execution_count": 80,
   "metadata": {},
   "outputs": [],
   "source": [
    "art_name = art_soup.find_all('div', {'class': 'lotdetail-subtitle'})"
   ]
  },
  {
   "cell_type": "code",
   "execution_count": 82,
   "metadata": {},
   "outputs": [
    {
     "data": {
      "text/plain": [
       "'BRITISHPORTRAIT OF HENRY ALEXANDER, 4TH EARL OF STIRLING (D.1691), CIRCA 1666'"
      ]
     },
     "execution_count": 82,
     "metadata": {},
     "output_type": "execute_result"
    }
   ],
   "source": [
    "clean_text(art_name[0])"
   ]
  },
  {
   "cell_type": "code",
   "execution_count": 83,
   "metadata": {},
   "outputs": [],
   "source": [
    "details = art_soup.find_all('div', {'class': 'lotdetail-description-text'})"
   ]
  },
  {
   "cell_type": "code",
   "execution_count": 88,
   "metadata": {},
   "outputs": [
    {
     "data": {
      "text/plain": [
       "[<div class=\"lotdetail-description-text\">\n",
       "                         Signed with monogram, centre right: SC<br/>Watercolour and bodycolour on vellum, silver gilt-frame, later mount, embellished with an Earl's coronet<br/>6.5cm by 5.5cm<br/></div>]"
      ]
     },
     "execution_count": 88,
     "metadata": {},
     "output_type": "execute_result"
    }
   ],
   "source": [
    "details"
   ]
  },
  {
   "cell_type": "code",
   "execution_count": 87,
   "metadata": {},
   "outputs": [
    {
     "data": {
      "text/plain": [
       "\"[\\r\\n                        Signed with monogram, centre right: SCWatercolour and bodycolour on vellum, silver gilt-frame, later mount, embellished with an Earl's coronet6.5cm by 5.5cm]\""
      ]
     },
     "execution_count": 87,
     "metadata": {},
     "output_type": "execute_result"
    }
   ],
   "source": [
    "clean_text(details)"
   ]
  },
  {
   "cell_type": "code",
   "execution_count": 89,
   "metadata": {},
   "outputs": [],
   "source": [
    "low = art_soup.find_all('span', {'class': 'range-from'})"
   ]
  },
  {
   "cell_type": "code",
   "execution_count": 90,
   "metadata": {},
   "outputs": [
    {
     "data": {
      "text/plain": [
       "[<span class=\"range-from\" data-range-from=\"10000\">10,000</span>,\n",
       " <span class=\"range-from\" data-range-from=\"10000\">10,000</span>,\n",
       " <span class=\"range-from\" data-range-from=\"10000\">10,000</span>]"
      ]
     },
     "execution_count": 90,
     "metadata": {},
     "output_type": "execute_result"
    }
   ],
   "source": [
    "low"
   ]
  },
  {
   "cell_type": "code",
   "execution_count": 92,
   "metadata": {},
   "outputs": [],
   "source": [
    "sale_price = art_soup.find_all('div', {'class': 'price-sold'})"
   ]
  },
  {
   "cell_type": "code",
   "execution_count": 97,
   "metadata": {},
   "outputs": [
    {
     "data": {
      "text/plain": [
       "'10,000'"
      ]
     },
     "execution_count": 97,
     "metadata": {},
     "output_type": "execute_result"
    }
   ],
   "source": [
    "clean_text(low[0])"
   ]
  },
  {
   "cell_type": "code",
   "execution_count": 93,
   "metadata": {},
   "outputs": [
    {
     "data": {
      "text/plain": [
       "[]"
      ]
     },
     "execution_count": 93,
     "metadata": {},
     "output_type": "execute_result"
    }
   ],
   "source": [
    "sale_price"
   ]
  },
  {
   "cell_type": "code",
   "execution_count": 94,
   "metadata": {},
   "outputs": [],
   "source": [
    "artist_dates = art_soup.find_all('div', {'class': 'lotdetail-artist-dates'})"
   ]
  },
  {
   "cell_type": "code",
   "execution_count": 96,
   "metadata": {},
   "outputs": [
    {
     "data": {
      "text/plain": [
       "'[1608-1672]'"
      ]
     },
     "execution_count": 96,
     "metadata": {},
     "output_type": "execute_result"
    }
   ],
   "source": [
    "clean_text(artist_dates)"
   ]
  },
  {
   "cell_type": "code",
   "execution_count": 147,
   "metadata": {},
   "outputs": [],
   "source": [
    "links = soup.find_all('a', {'class': 'Card-media'})"
   ]
  },
  {
   "cell_type": "code",
   "execution_count": 153,
   "metadata": {},
   "outputs": [
    {
     "name": "stdout",
     "output_type": "stream",
     "text": [
      "https://www.sothebys.com/buy/6fd865ec-0f5a-4749-a2ea-aed66ba70636/lots/5c062c01-6d42-4a06-ae93-bb236f0f92ff\n",
      "https://www.sothebys.com/buy/6fd865ec-0f5a-4749-a2ea-aed66ba70636/lots/19ed6e35-1d35-4639-86b9-5af0479cbdcb\n",
      "https://www.sothebys.com/buy/6fd865ec-0f5a-4749-a2ea-aed66ba70636/lots/b4ed0263-e6bc-4cd2-a9f2-d8cb07584074\n",
      "https://www.sothebys.com/en/auctions/ecatalogue/2019/contemporary-art-day-n10070/lot.106.html\n",
      "https://www.sothebys.com/en/auctions/ecatalogue/2019/contemporary-art-day-n10070/lot.107.html\n",
      "https://www.sothebys.com/en/auctions/ecatalogue/2019/contemporary-art-day-n10070/lot.108.html\n",
      "https://www.sothebys.com/en/auctions/ecatalogue/2019/contemporary-art-day-n10070/lot.109.html\n",
      "https://www.sothebys.com/en/auctions/ecatalogue/2019/contemporary-art-day-n10070/lot.114.html\n",
      "https://www.sothebys.com/en/auctions/ecatalogue/2019/contemporary-art-day-n10070/lot.115.html\n",
      "https://www.sothebys.com/en/auctions/ecatalogue/2019/contemporary-art-day-n10070/lot.116.html\n",
      "https://www.sothebys.com/en/auctions/ecatalogue/2019/contemporary-art-day-n10070/lot.117.html\n",
      "https://www.sothebys.com/en/auctions/ecatalogue/2019/contemporary-art-day-n10070/lot.118.html\n",
      "https://www.sothebys.com/en/auctions/ecatalogue/2019/contemporary-art-day-n10070/lot.119.html\n",
      "https://www.sothebys.com/en/auctions/ecatalogue/2019/contemporary-art-day-n10070/lot.120.html\n",
      "https://www.sothebys.com/en/auctions/ecatalogue/2019/contemporary-art-day-n10070/lot.101.html\n"
     ]
    }
   ],
   "source": [
    "for link in links:\n",
    "    print(link['href'])"
   ]
  },
  {
   "cell_type": "code",
   "execution_count": 136,
   "metadata": {},
   "outputs": [],
   "source": [
    "tmp = links[0]['href']"
   ]
  },
  {
   "cell_type": "code",
   "execution_count": 148,
   "metadata": {},
   "outputs": [
    {
     "data": {
      "text/plain": [
       "15"
      ]
     },
     "execution_count": 148,
     "metadata": {},
     "output_type": "execute_result"
    }
   ],
   "source": [
    "len(links)"
   ]
  },
  {
   "cell_type": "code",
   "execution_count": 149,
   "metadata": {},
   "outputs": [],
   "source": [
    "art_url = links[0]['href']\n",
    "art_page = requests.get(art_url, headers=ua)\n",
    "art_soup = BeautifulSoup(art_page.text, 'lxml')        "
   ]
  },
  {
   "cell_type": "code",
   "execution_count": null,
   "metadata": {},
   "outputs": [],
   "source": [
    "# artist and art \n",
    "h1 class=\"css-sxdrbj\"\n",
    "# estimate\n",
    "p class = \"css-4945v4\"\n",
    "# Sale price\n",
    "span class = \"css-15o7tlo\"\n",
    "# Currency\n",
    "span class=\"css-wfxyp0\"\n",
    "# Description\n",
    "div id=\"LotDetails\"\n",
    "# JPEG\n",
    "img class=\"css-1vzoslw\" src = \"LINK TO JPEG\"\n",
    "\n"
   ]
  },
  {
   "cell_type": "code",
   "execution_count": 150,
   "metadata": {},
   "outputs": [],
   "source": [
    "art_soup.find('h1', {'class': 'css-sxdrbj'})"
   ]
  },
  {
   "cell_type": "code",
   "execution_count": 165,
   "metadata": {},
   "outputs": [],
   "source": [
    "art_url = 'https://www.sothebys.com/en/buy/auction/2019/19th-century-european-art/jean-delville-orphee-aux-enfers'"
   ]
  },
  {
   "cell_type": "code",
   "execution_count": 166,
   "metadata": {},
   "outputs": [],
   "source": [
    "tmp = requests.get(art_url, headers=ua)\n",
    "t = BeautifulSoup(tmp.text, 'lxml')"
   ]
  },
  {
   "cell_type": "code",
   "execution_count": 167,
   "metadata": {},
   "outputs": [],
   "source": [
    "d = t.find('div', {'id': 'LotDetails'})"
   ]
  },
  {
   "cell_type": "code",
   "execution_count": 168,
   "metadata": {},
   "outputs": [],
   "source": [
    "d"
   ]
  },
  {
   "cell_type": "code",
   "execution_count": null,
   "metadata": {},
   "outputs": [],
   "source": []
  },
  {
   "cell_type": "code",
   "execution_count": null,
   "metadata": {},
   "outputs": [],
   "source": []
  },
  {
   "cell_type": "code",
   "execution_count": null,
   "metadata": {},
   "outputs": [],
   "source": []
  }
 ],
 "metadata": {
  "kernelspec": {
   "display_name": "Python 3",
   "language": "python",
   "name": "python3"
  },
  "language_info": {
   "codemirror_mode": {
    "name": "ipython",
    "version": 3
   },
   "file_extension": ".py",
   "mimetype": "text/x-python",
   "name": "python",
   "nbconvert_exporter": "python",
   "pygments_lexer": "ipython3",
   "version": "3.7.1"
  },
  "toc": {
   "base_numbering": 1,
   "nav_menu": {},
   "number_sections": true,
   "sideBar": true,
   "skip_h1_title": false,
   "title_cell": "Table of Contents",
   "title_sidebar": "Contents",
   "toc_cell": false,
   "toc_position": {},
   "toc_section_display": true,
   "toc_window_display": false
  }
 },
 "nbformat": 4,
 "nbformat_minor": 2
}
